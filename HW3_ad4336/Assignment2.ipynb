{
 "cells": [
  {
   "cell_type": "markdown",
   "metadata": {},
   "source": [
    "## IDEA:\n",
    "There are more trips in Summer rather then in Winter time\n",
    "\n",
    "## NULL HYPOTHESIS:\n",
    "The mean number of weekly bike trips made by citibike users during July 2016 is the same or higher than the corresponding number of weekly bike trips made by citibike users during January 2016.\n",
    "\n",
    "## ALTERNATIVE HYPOTHESIS:\n",
    "The mean number of weekly bike trips made by citibike users during July 2016 is significantly lower than the corresponding number of weekly bike trips made by citibike users during January 2016.\n",
    "\n",
    "Significance level: 0.01"
   ]
  },
  {
   "cell_type": "code",
   "execution_count": null,
   "metadata": {
    "collapsed": false
   },
   "outputs": [],
   "source": [
    "from __future__  import print_function, division\n",
    "import pylab as pl\n",
    "import pandas as pd\n",
    "import numpy as np\n",
    "import os\n",
    "\n",
    "%pylab inline\n",
    "\n",
    "if os.getenv ('PUI2017') is None:\n",
    "    print (\"Must set env variable PUI2017\")\n",
    "if os.getenv ('PUIDATA') is None:\n",
    "    print (\"Must set env variable PUIDATA\")\n",
    "\n",
    "import os\n",
    "import json"
   ]
  },
  {
   "cell_type": "code",
   "execution_count": null,
   "metadata": {
    "collapsed": false
   },
   "outputs": [],
   "source": [
    "#download Citibike dataset files for January 2016\n",
    "os.system(\"curl -O https://s3.amazonaws.com/tripdata/201601-citibike-tripdata.zip\")\n",
    "#download Citibike dataset files for July 2016\n",
    "os.system(\"curl -O https://s3.amazonaws.com/tripdata/201607-citibike-tripdata.zip\")\n",
    "\n",
    "#use the os.system() functions to run bash commands with arguments to move it\n",
    "os.system(\"mv 201601-citibike-tripdata.zip \" + os.getenv(\"PUIDATA\"))\n",
    "os.system(\"mv 201607-citibike-tripdata.zip \" + os.getenv(\"PUIDATA\"))\n",
    "\n",
    "#unzip the csv \n",
    "os.system(\"unzip \" + os.getenv(\"PUIDATA\") + \"/201601-citibike-tripdata.zip\")\n",
    "os.system(\"unzip \" + os.getenv(\"PUIDATA\") + \"/201607-citibike-tripdata.zip\")"
   ]
  },
  {
   "cell_type": "code",
   "execution_count": null,
   "metadata": {
    "collapsed": false
   },
   "outputs": [],
   "source": [
    "#January 2016 dataset\n",
    "df = pd.read_csv(os.getenv(\"PUIDATA\") + \"/201601-citibike-tripdata.csv\")\n",
    "df['date'] = pd.to_datetime(df['starttime'])\n",
    "#print(\"Citi Bike Data (January 2016):\")\n",
    "#df.head()"
   ]
  },
  {
   "cell_type": "code",
   "execution_count": null,
   "metadata": {
    "collapsed": false
   },
   "outputs": [],
   "source": [
    "#List columns and determine which ones to drop\n",
    "df.columns\n",
    "#Drop irrelevant columns \n",
    "df.drop(['tripduration', 'starttime', 'stoptime', 'start station id',\n",
    "       'start station name', 'start station latitude',\n",
    "       'start station longitude', 'end station id', 'end station name',\n",
    "       'end station latitude', 'end station longitude', 'bikeid',\n",
    "       'birth year', 'gender'], axis=1, inplace=True)\n",
    "#df.columns"
   ]
  },
  {
   "cell_type": "code",
   "execution_count": null,
   "metadata": {
    "collapsed": false
   },
   "outputs": [],
   "source": [
    "#df.head()"
   ]
  },
  {
   "cell_type": "code",
   "execution_count": null,
   "metadata": {
    "collapsed": false
   },
   "outputs": [],
   "source": [
    "#Same for July 2016:\n",
    "df2 = pd.read_csv(os.getenv(\"PUIDATA\") + \"/201607-citibike-tripdata.csv')\n",
    "df2['date'] = pd.to_datetime(df['starttime'])\n",
    "#print(\"Citi Bike Data (July 2016):\")\n",
    "#df2.head()"
   ]
  },
  {
   "cell_type": "code",
   "execution_count": null,
   "metadata": {
    "collapsed": true
   },
   "outputs": [],
   "source": [
    "#List columns and determine which ones to drop\n",
    "df2.columns\n",
    "#Drop irrelevant columns \n",
    "df2.drop(['tripduration', 'starttime', 'stoptime', 'start station id',\n",
    "       'start station name', 'start station latitude',\n",
    "       'start station longitude', 'end station id', 'end station name',\n",
    "       'end station latitude', 'end station longitude', 'bikeid',\n",
    "       'birth year', 'gender'], axis=1, inplace=True)\n",
    "#df2.columns"
   ]
  },
  {
   "cell_type": "code",
   "execution_count": null,
   "metadata": {
    "collapsed": false
   },
   "outputs": [],
   "source": []
  },
  {
   "cell_type": "code",
   "execution_count": null,
   "metadata": {
    "collapsed": true
   },
   "outputs": [],
   "source": []
  }
 ],
 "metadata": {
  "kernelspec": {
   "display_name": "PUI2016_Python2",
   "language": "python",
   "name": "pui2016_python2"
  },
  "language_info": {
   "codemirror_mode": {
    "name": "ipython",
    "version": 2
   },
   "file_extension": ".py",
   "mimetype": "text/x-python",
   "name": "python",
   "nbconvert_exporter": "python",
   "pygments_lexer": "ipython2",
   "version": "2.7.12"
  }
 },
 "nbformat": 4,
 "nbformat_minor": 0
}
