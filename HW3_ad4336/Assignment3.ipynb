{
 "cells": [
  {
   "cell_type": "markdown",
   "metadata": {
    "collapsed": true
   },
   "source": [
    "## Z-test lab\n",
    "### Null hypothesis: The average commute time is the same or longer with the new bus route as it was before\n",
    "\n",
    "Tnew >= Told\n",
    "\n",
    "### Alternative hypothesis: The average commute is shorter with the new bus route as it was before\n",
    "\n",
    "Tnew<Told\n",
    "\n",
    "### Confidence level: \n",
    "α = 0.05\n",
    "\n",
    "Told ~ N(μ=36, σ=6)"
   ]
  },
  {
   "cell_type": "code",
   "execution_count": 1,
   "metadata": {
    "collapsed": false
   },
   "outputs": [],
   "source": [
    "from __future__ import print_function\n",
    "import pandas as pd\n",
    "import numpy as np\n",
    "import math"
   ]
  },
  {
   "cell_type": "code",
   "execution_count": 2,
   "metadata": {
    "collapsed": false
   },
   "outputs": [
    {
     "name": "stdout",
     "output_type": "stream",
     "text": [
      "  % Total    % Received % Xferd  Average Speed   Time    Time     Time  Current\r\n",
      "                                 Dload  Upload   Total   Spent    Left  Speed\r\n",
      "\r",
      "  0     0    0     0    0     0      0      0 --:--:-- --:--:-- --:--:--     0\r",
      "107  1179  107  1179    0     0   7529      0 --:--:-- --:--:-- --:--:--  230k\r\n"
     ]
    }
   ],
   "source": [
    "!curl -O https://raw.githubusercontent.com/fedhere/PUI2017_fb55/master/Lab3_fb55/times.txt    \n",
    "newTimes = pd.read_csv('times.txt', header=None)"
   ]
  },
  {
   "cell_type": "code",
   "execution_count": 3,
   "metadata": {
    "collapsed": false
   },
   "outputs": [
    {
     "name": "stdout",
     "output_type": "stream",
     "text": [
      "New route mean: 34.4661616883\n",
      "New route std: 7.13728013375\n"
     ]
    }
   ],
   "source": [
    "print (\"New route mean: \" + str(newTimes.mean()[0]))\n",
    "print (\"New route std: \" + str(newTimes.std()[0]))"
   ]
  },
  {
   "cell_type": "code",
   "execution_count": 5,
   "metadata": {
    "collapsed": false
   },
   "outputs": [
    {
     "name": "stdout",
     "output_type": "stream",
     "text": [
      "Z-score is: 2.55639718617\n"
     ]
    }
   ],
   "source": [
    "#Before the new bus: μ=36, σ=6)\n",
    "#performing z-test\n",
    "z = (36 - newTimes.mean()[0])/(6/math.sqrt(100))\n",
    "print (\"Z-score is: \" + str(z))"
   ]
  },
  {
   "cell_type": "markdown",
   "metadata": {
    "collapsed": false
   },
   "source": [
    "## Conclusion:\n",
    "The Z-score is approxximately 2 and a half standard deviations away from the mean with a p-value of .005.\n",
    "Since new p-value is < 0.05, we reject the null hypothesis. The Alternative hypothesis is proven.\n",
    "The new bus-route is faster than the old route."
   ]
  },
  {
   "cell_type": "code",
   "execution_count": null,
   "metadata": {
    "collapsed": true
   },
   "outputs": [],
   "source": []
  },
  {
   "cell_type": "code",
   "execution_count": null,
   "metadata": {
    "collapsed": true
   },
   "outputs": [],
   "source": []
  }
 ],
 "metadata": {
  "kernelspec": {
   "display_name": "Python 2",
   "language": "python",
   "name": "python2"
  },
  "language_info": {
   "codemirror_mode": {
    "name": "ipython",
    "version": 2
   },
   "file_extension": ".py",
   "mimetype": "text/x-python",
   "name": "python",
   "nbconvert_exporter": "python",
   "pygments_lexer": "ipython2",
   "version": "2.7.11"
  }
 },
 "nbformat": 4,
 "nbformat_minor": 0
}
