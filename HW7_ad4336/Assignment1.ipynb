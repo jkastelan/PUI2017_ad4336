{
 "cells": [
  {
   "cell_type": "markdown",
   "metadata": {},
   "source": [
    "\n",
    "# Investigation into the Citibike data\n",
    "\n",
    "### IDEA:\n",
    "Customers are less likely than Subscribers to choose biking _for commuting_\n",
    "### NULL HYPOTHESIS:\n",
    "The ratio of subscribers biking on weekends over subscribers biking on weekdays is _the same_ or _higher_ than the ratio of customers biking on weekends over customers biking on weekdays.\n",
    "### ALTERNATIVE HYPOTHESIS:\n",
    "The ratio of subscribers biking on weekends over subscribers biking on weekdays is _less_ than the ratio of customers biking on weekends over customers biking on weekdays.\n",
    "\n",
    "# _$H_0$_ : $\\frac{S{\\mathrm{weekend}}}{S{\\mathrm{weekdays}}} => \\frac{C{\\mathrm{weekend}}}{C{\\mathrm{weekdays}}}$\n",
    "# _$H_1$_ : $\\frac{S{\\mathrm{weekend}}}{S{\\mathrm{weekdays}}} < \\frac{C{\\mathrm{weekend}}}{C{\\mathrm{weekdays}}}$\n",
    "\n",
    "<=>\n",
    "\n",
    "# _$H_0$_ : $\\frac{S{\\mathrm{weekend}}}{S{\\mathrm{weekdays}}} - \\frac{C{\\mathrm{weekend}}}{C{\\mathrm{weekdays}}} => 0 $\n",
    "# _$H_1$_ : $\\frac{S{\\mathrm{weekend}}}{S{\\mathrm{weekdays}}} - \\frac{C{\\mathrm{weekend}}}{C{\\mathrm{weekdays}}} < 0 $\n",
    "\n",
    "\n",
    "Significance level:  $\\alpha=0.05$\n",
    "\n"
   ]
  },
  {
   "cell_type": "code",
   "execution_count": 1,
   "metadata": {
    "collapsed": false,
    "scrolled": false
   },
   "outputs": [
    {
     "name": "stdout",
     "output_type": "stream",
     "text": [
      "Populating the interactive namespace from numpy and matplotlib\n"
     ]
    }
   ],
   "source": [
    "from __future__  import print_function, division\n",
    "import pylab as pl\n",
    "import pandas as pd\n",
    "import numpy as np\n",
    "import os\n",
    "import matplotlib.pyplot as plt\n",
    "plt.style.use('ggplot')\n",
    "from scipy import stats\n",
    "\n",
    "%pylab inline\n",
    "\n",
    "if os.getenv ('PUIDATA') is None:\n",
    "    print (\"Must set env variable PUIDATA\")\n"
   ]
  },
  {
   "cell_type": "code",
   "execution_count": 2,
   "metadata": {
    "collapsed": true
   },
   "outputs": [],
   "source": [
    "#function to download the data\n",
    "def getCitiBikeCSV(datestring):\n",
    "    print (\"Downloading\", datestring)\n",
    "    #check that it is not already there\n",
    "    if not os.path.isfile(os.getenv(\"PUIDATA\") + \"/\" + datestring + \"-citibike-tripdata.csv\"):\n",
    "        if os.path.isfile(datestring + \"-citibike-tripdata.csv\"):\n",
    "            #if in the current dir -> move it\n",
    "            if os.system(\"mv \" + datestring + \"-citibike-tripdata.csv \" + os.getenv(\"PUIDATA\")):\n",
    "                print (\"Error moving file!, Please check!\")\n",
    "        #otherwise start looking for the zip file\n",
    "        else:\n",
    "            if not os.path.isfile(os.getenv(\"PUIDATA\") + \"/\" + datestring + \"-citibike-tripdata.zip\"):\n",
    "                if not os.path.isfile(datestring + \"-citibike-tripdata.zip\"):\n",
    "                    os.system(\"curl -O https://s3.amazonaws.com/tripdata/\" + datestring + \"-citibike-tripdata.zip\")\n",
    "                os.system(\"mv \" + datestring + \"-citibike-tripdata.zip \" + os.getenv(\"PUIDATA\"))\n",
    "            #unzip the csv \n",
    "            os.system(\"unzip \" + os.getenv(\"PUIDATA\") + \"/\" + datestring + \"-citibike-tripdata.zip\")\n",
    "            os.system(\"mv \" + datestring + \"-citibike-tripdata.csv \" + os.getenv(\"PUIDATA\"))\n",
    "    #final check:\n",
    "    if not os.path.isfile(os.getenv(\"PUIDATA\") + \"/\" + datestring + \"-citibike-tripdata.csv\"):\n",
    "        print (\"WARNING!!! something is wrong: the file is not there!\")\n",
    "\n",
    "    else:\n",
    "        print (\"file in place, you can continue\")"
   ]
  },
  {
   "cell_type": "code",
   "execution_count": 3,
   "metadata": {
    "collapsed": true
   },
   "outputs": [],
   "source": [
    "#function to calculate Chi Square statistic\n",
    "def evalChisq(values):\n",
    "    '''Evaluates the chi sq from a contingency value\n",
    "    Arguments:\n",
    "    values: 2x2 array or list, the contingengy table\n",
    "    '''\n",
    "    if not (len(values.shape) == 2 and values.shape == (2,2)):\n",
    "        print (\"must pass a 2D array\")\n",
    "        return -1\n",
    "    values = np.array(values)\n",
    "    E = np.empty_like(values)\n",
    "    for j in range(len(values[0])):\n",
    "        for i in range(2):\n",
    "            \n",
    "            E[i][j] = ((values[i,:].sum() * values[:,j].sum()) / \n",
    "                        (values).sum())\n",
    "    return ((values - E)**2 / E).sum()"
   ]
  },
  {
   "cell_type": "markdown",
   "metadata": {},
   "source": [
    "### We are using two months of Citibike dataset to check the robustness of our results. In order to investigate whether the test holds in the winter and summer of 2016, January and July data were studied. \n"
   ]
  },
  {
   "cell_type": "code",
   "execution_count": 4,
   "metadata": {
    "collapsed": false
   },
   "outputs": [
    {
     "name": "stdout",
     "output_type": "stream",
     "text": [
      "Downloading 201601\n",
      "file in place, you can continue\n"
     ]
    }
   ],
   "source": [
    "#reading data from citibike csv file from January 2016, i.e. 201601-citibike-tripdata.csv\n",
    "jan2016 = '201601'\n",
    "getCitiBikeCSV(jan2016)"
   ]
  },
  {
   "cell_type": "code",
   "execution_count": 5,
   "metadata": {
    "collapsed": false
   },
   "outputs": [
    {
     "data": {
      "text/html": [
       "<div>\n",
       "<table border=\"1\" class=\"dataframe\">\n",
       "  <thead>\n",
       "    <tr style=\"text-align: right;\">\n",
       "      <th></th>\n",
       "      <th>tripduration</th>\n",
       "      <th>starttime</th>\n",
       "      <th>stoptime</th>\n",
       "      <th>start station id</th>\n",
       "      <th>start station name</th>\n",
       "      <th>start station latitude</th>\n",
       "      <th>start station longitude</th>\n",
       "      <th>end station id</th>\n",
       "      <th>end station name</th>\n",
       "      <th>end station latitude</th>\n",
       "      <th>end station longitude</th>\n",
       "      <th>bikeid</th>\n",
       "      <th>usertype</th>\n",
       "      <th>birth year</th>\n",
       "      <th>gender</th>\n",
       "      <th>date</th>\n",
       "    </tr>\n",
       "  </thead>\n",
       "  <tbody>\n",
       "    <tr>\n",
       "      <th>0</th>\n",
       "      <td>923</td>\n",
       "      <td>1/1/2016 00:00:41</td>\n",
       "      <td>1/1/2016 00:16:04</td>\n",
       "      <td>268</td>\n",
       "      <td>Howard St &amp; Centre St</td>\n",
       "      <td>40.719105</td>\n",
       "      <td>-73.999733</td>\n",
       "      <td>3002</td>\n",
       "      <td>South End Ave &amp; Liberty St</td>\n",
       "      <td>40.711512</td>\n",
       "      <td>-74.015756</td>\n",
       "      <td>22285</td>\n",
       "      <td>Subscriber</td>\n",
       "      <td>1958.0</td>\n",
       "      <td>1</td>\n",
       "      <td>2016-01-01 00:00:41</td>\n",
       "    </tr>\n",
       "    <tr>\n",
       "      <th>1</th>\n",
       "      <td>379</td>\n",
       "      <td>1/1/2016 00:00:45</td>\n",
       "      <td>1/1/2016 00:07:04</td>\n",
       "      <td>476</td>\n",
       "      <td>E 31 St &amp; 3 Ave</td>\n",
       "      <td>40.743943</td>\n",
       "      <td>-73.979661</td>\n",
       "      <td>498</td>\n",
       "      <td>Broadway &amp; W 32 St</td>\n",
       "      <td>40.748549</td>\n",
       "      <td>-73.988084</td>\n",
       "      <td>17827</td>\n",
       "      <td>Subscriber</td>\n",
       "      <td>1969.0</td>\n",
       "      <td>1</td>\n",
       "      <td>2016-01-01 00:00:45</td>\n",
       "    </tr>\n",
       "    <tr>\n",
       "      <th>2</th>\n",
       "      <td>589</td>\n",
       "      <td>1/1/2016 00:00:48</td>\n",
       "      <td>1/1/2016 00:10:37</td>\n",
       "      <td>489</td>\n",
       "      <td>10 Ave &amp; W 28 St</td>\n",
       "      <td>40.750664</td>\n",
       "      <td>-74.001768</td>\n",
       "      <td>284</td>\n",
       "      <td>Greenwich Ave &amp; 8 Ave</td>\n",
       "      <td>40.739017</td>\n",
       "      <td>-74.002638</td>\n",
       "      <td>21997</td>\n",
       "      <td>Subscriber</td>\n",
       "      <td>1982.0</td>\n",
       "      <td>2</td>\n",
       "      <td>2016-01-01 00:00:48</td>\n",
       "    </tr>\n",
       "    <tr>\n",
       "      <th>3</th>\n",
       "      <td>889</td>\n",
       "      <td>1/1/2016 00:01:06</td>\n",
       "      <td>1/1/2016 00:15:56</td>\n",
       "      <td>268</td>\n",
       "      <td>Howard St &amp; Centre St</td>\n",
       "      <td>40.719105</td>\n",
       "      <td>-73.999733</td>\n",
       "      <td>3002</td>\n",
       "      <td>South End Ave &amp; Liberty St</td>\n",
       "      <td>40.711512</td>\n",
       "      <td>-74.015756</td>\n",
       "      <td>22794</td>\n",
       "      <td>Subscriber</td>\n",
       "      <td>1961.0</td>\n",
       "      <td>2</td>\n",
       "      <td>2016-01-01 00:01:06</td>\n",
       "    </tr>\n",
       "    <tr>\n",
       "      <th>4</th>\n",
       "      <td>1480</td>\n",
       "      <td>1/1/2016 00:01:12</td>\n",
       "      <td>1/1/2016 00:25:52</td>\n",
       "      <td>2006</td>\n",
       "      <td>Central Park S &amp; 6 Ave</td>\n",
       "      <td>40.765909</td>\n",
       "      <td>-73.976342</td>\n",
       "      <td>2006</td>\n",
       "      <td>Central Park S &amp; 6 Ave</td>\n",
       "      <td>40.765909</td>\n",
       "      <td>-73.976342</td>\n",
       "      <td>14562</td>\n",
       "      <td>Subscriber</td>\n",
       "      <td>1952.0</td>\n",
       "      <td>1</td>\n",
       "      <td>2016-01-01 00:01:12</td>\n",
       "    </tr>\n",
       "  </tbody>\n",
       "</table>\n",
       "</div>"
      ],
      "text/plain": [
       "   tripduration          starttime           stoptime  start station id  \\\n",
       "0           923  1/1/2016 00:00:41  1/1/2016 00:16:04               268   \n",
       "1           379  1/1/2016 00:00:45  1/1/2016 00:07:04               476   \n",
       "2           589  1/1/2016 00:00:48  1/1/2016 00:10:37               489   \n",
       "3           889  1/1/2016 00:01:06  1/1/2016 00:15:56               268   \n",
       "4          1480  1/1/2016 00:01:12  1/1/2016 00:25:52              2006   \n",
       "\n",
       "       start station name  start station latitude  start station longitude  \\\n",
       "0   Howard St & Centre St               40.719105               -73.999733   \n",
       "1         E 31 St & 3 Ave               40.743943               -73.979661   \n",
       "2        10 Ave & W 28 St               40.750664               -74.001768   \n",
       "3   Howard St & Centre St               40.719105               -73.999733   \n",
       "4  Central Park S & 6 Ave               40.765909               -73.976342   \n",
       "\n",
       "   end station id            end station name  end station latitude  \\\n",
       "0            3002  South End Ave & Liberty St             40.711512   \n",
       "1             498          Broadway & W 32 St             40.748549   \n",
       "2             284       Greenwich Ave & 8 Ave             40.739017   \n",
       "3            3002  South End Ave & Liberty St             40.711512   \n",
       "4            2006      Central Park S & 6 Ave             40.765909   \n",
       "\n",
       "   end station longitude  bikeid    usertype  birth year  gender  \\\n",
       "0             -74.015756   22285  Subscriber      1958.0       1   \n",
       "1             -73.988084   17827  Subscriber      1969.0       1   \n",
       "2             -74.002638   21997  Subscriber      1982.0       2   \n",
       "3             -74.015756   22794  Subscriber      1961.0       2   \n",
       "4             -73.976342   14562  Subscriber      1952.0       1   \n",
       "\n",
       "                 date  \n",
       "0 2016-01-01 00:00:41  \n",
       "1 2016-01-01 00:00:45  \n",
       "2 2016-01-01 00:00:48  \n",
       "3 2016-01-01 00:01:06  \n",
       "4 2016-01-01 00:01:12  "
      ]
     },
     "execution_count": 5,
     "metadata": {},
     "output_type": "execute_result"
    }
   ],
   "source": [
    "#dataframe where the content of the 201601-citibike-tripdata.csv file is stored\n",
    "df = pd.read_csv(os.getenv(\"PUIDATA\") + \"/\" + jan2016 + '-citibike-tripdata.csv')\n",
    "df['date'] = pd.to_datetime(df['starttime'])\n",
    "df.head()"
   ]
  },
  {
   "cell_type": "code",
   "execution_count": 6,
   "metadata": {
    "collapsed": false
   },
   "outputs": [
    {
     "data": {
      "text/html": [
       "<div>\n",
       "<table border=\"1\" class=\"dataframe\">\n",
       "  <thead>\n",
       "    <tr style=\"text-align: right;\">\n",
       "      <th></th>\n",
       "      <th>usertype</th>\n",
       "      <th>date</th>\n",
       "    </tr>\n",
       "  </thead>\n",
       "  <tbody>\n",
       "    <tr>\n",
       "      <th>0</th>\n",
       "      <td>Subscriber</td>\n",
       "      <td>2016-01-01 00:00:41</td>\n",
       "    </tr>\n",
       "    <tr>\n",
       "      <th>1</th>\n",
       "      <td>Subscriber</td>\n",
       "      <td>2016-01-01 00:00:45</td>\n",
       "    </tr>\n",
       "    <tr>\n",
       "      <th>2</th>\n",
       "      <td>Subscriber</td>\n",
       "      <td>2016-01-01 00:00:48</td>\n",
       "    </tr>\n",
       "    <tr>\n",
       "      <th>3</th>\n",
       "      <td>Subscriber</td>\n",
       "      <td>2016-01-01 00:01:06</td>\n",
       "    </tr>\n",
       "    <tr>\n",
       "      <th>4</th>\n",
       "      <td>Subscriber</td>\n",
       "      <td>2016-01-01 00:01:12</td>\n",
       "    </tr>\n",
       "  </tbody>\n",
       "</table>\n",
       "</div>"
      ],
      "text/plain": [
       "     usertype                date\n",
       "0  Subscriber 2016-01-01 00:00:41\n",
       "1  Subscriber 2016-01-01 00:00:45\n",
       "2  Subscriber 2016-01-01 00:00:48\n",
       "3  Subscriber 2016-01-01 00:01:06\n",
       "4  Subscriber 2016-01-01 00:01:12"
      ]
     },
     "execution_count": 6,
     "metadata": {},
     "output_type": "execute_result"
    }
   ],
   "source": [
    "#we only need the user type, date, and time of the beginning of each trip\n",
    "df.drop(['tripduration', 'starttime', 'stoptime', 'start station id',\n",
    "       'start station name', 'start station latitude',\n",
    "       'start station longitude', 'end station id', 'end station name',\n",
    "       'end station latitude', 'end station longitude', 'bikeid',\n",
    "       'birth year', 'gender'], axis=1, inplace=True)\n",
    "\n",
    "df.head()"
   ]
  },
  {
   "cell_type": "code",
   "execution_count": 7,
   "metadata": {
    "collapsed": false
   },
   "outputs": [
    {
     "name": "stdout",
     "output_type": "stream",
     "text": [
      "Downloading 201607\n",
      "file in place, you can continue\n"
     ]
    }
   ],
   "source": [
    "#reading data from citibike csv file from July 2016, i.e. 201607-citibike-tripdata.csv\n",
    "jul2016 = '201607'\n",
    "getCitiBikeCSV(jul2016)"
   ]
  },
  {
   "cell_type": "code",
   "execution_count": 12,
   "metadata": {
    "collapsed": false
   },
   "outputs": [
    {
     "data": {
      "text/html": [
       "<div>\n",
       "<table border=\"1\" class=\"dataframe\">\n",
       "  <thead>\n",
       "    <tr style=\"text-align: right;\">\n",
       "      <th></th>\n",
       "      <th>usertype</th>\n",
       "      <th>date</th>\n",
       "    </tr>\n",
       "  </thead>\n",
       "  <tbody>\n",
       "    <tr>\n",
       "      <th>0</th>\n",
       "      <td>Subscriber</td>\n",
       "      <td>2016-01-01 00:00:41</td>\n",
       "    </tr>\n",
       "    <tr>\n",
       "      <th>1</th>\n",
       "      <td>Subscriber</td>\n",
       "      <td>2016-01-01 00:00:45</td>\n",
       "    </tr>\n",
       "    <tr>\n",
       "      <th>2</th>\n",
       "      <td>Subscriber</td>\n",
       "      <td>2016-01-01 00:00:48</td>\n",
       "    </tr>\n",
       "    <tr>\n",
       "      <th>3</th>\n",
       "      <td>Subscriber</td>\n",
       "      <td>2016-01-01 00:01:06</td>\n",
       "    </tr>\n",
       "    <tr>\n",
       "      <th>4</th>\n",
       "      <td>Subscriber</td>\n",
       "      <td>2016-01-01 00:01:12</td>\n",
       "    </tr>\n",
       "  </tbody>\n",
       "</table>\n",
       "</div>"
      ],
      "text/plain": [
       "     usertype                date\n",
       "0  Subscriber 2016-01-01 00:00:41\n",
       "1  Subscriber 2016-01-01 00:00:45\n",
       "2  Subscriber 2016-01-01 00:00:48\n",
       "3  Subscriber 2016-01-01 00:01:06\n",
       "4  Subscriber 2016-01-01 00:01:12"
      ]
     },
     "execution_count": 12,
     "metadata": {},
     "output_type": "execute_result"
    }
   ],
   "source": [
    "#dataframe where the content of the 201607-citibike-tripdata.csv file is stored\n",
    "df2 = pd.read_csv(os.getenv(\"PUIDATA\") + \"/\" + jul2016 + '-citibike-tripdata.csv')\n",
    "df2['date'] = pd.to_datetime(df2['starttime'])\n",
    "df2.head()                  "
   ]
  },
  {
   "cell_type": "code",
   "execution_count": 13,
   "metadata": {
    "collapsed": false
   },
   "outputs": [
    {
     "data": {
      "text/html": [
       "<div>\n",
       "<table border=\"1\" class=\"dataframe\">\n",
       "  <thead>\n",
       "    <tr style=\"text-align: right;\">\n",
       "      <th></th>\n",
       "      <th>usertype</th>\n",
       "      <th>date</th>\n",
       "    </tr>\n",
       "  </thead>\n",
       "  <tbody>\n",
       "    <tr>\n",
       "      <th>0</th>\n",
       "      <td>Customer</td>\n",
       "      <td>2016-07-01 00:00:02</td>\n",
       "    </tr>\n",
       "    <tr>\n",
       "      <th>1</th>\n",
       "      <td>Subscriber</td>\n",
       "      <td>2016-07-01 00:00:18</td>\n",
       "    </tr>\n",
       "    <tr>\n",
       "      <th>2</th>\n",
       "      <td>Subscriber</td>\n",
       "      <td>2016-07-01 00:00:19</td>\n",
       "    </tr>\n",
       "    <tr>\n",
       "      <th>3</th>\n",
       "      <td>Customer</td>\n",
       "      <td>2016-07-01 00:00:24</td>\n",
       "    </tr>\n",
       "    <tr>\n",
       "      <th>4</th>\n",
       "      <td>Customer</td>\n",
       "      <td>2016-07-01 00:00:31</td>\n",
       "    </tr>\n",
       "  </tbody>\n",
       "</table>\n",
       "</div>"
      ],
      "text/plain": [
       "     usertype                date\n",
       "0    Customer 2016-07-01 00:00:02\n",
       "1  Subscriber 2016-07-01 00:00:18\n",
       "2  Subscriber 2016-07-01 00:00:19\n",
       "3    Customer 2016-07-01 00:00:24\n",
       "4    Customer 2016-07-01 00:00:31"
      ]
     },
     "execution_count": 13,
     "metadata": {},
     "output_type": "execute_result"
    }
   ],
   "source": [
    "#we only need the user type, date, and time of the beginning of each trip\n",
    "df2.drop(['tripduration', 'starttime', 'stoptime', 'start station id',\n",
    "       'start station name', 'start station latitude',\n",
    "       'start station longitude', 'end station id', 'end station name',\n",
    "       'end station latitude', 'end station longitude', 'bikeid',\n",
    "       'birth year', 'gender'], axis=1, inplace=True)\n",
    "df2.head()"
   ]
  },
  {
   "cell_type": "markdown",
   "metadata": {},
   "source": [
    "### We are dealing with categorical data, i.e. subscribers and customers. Let us plot the number of trips per week day"
   ]
  },
  {
   "cell_type": "code",
   "execution_count": 240,
   "metadata": {
    "collapsed": false
   },
   "outputs": [
    {
     "data": {
      "image/png": "[encoded data removed]",
      "text/plain": [
       "<matplotlib.figure.Figure at 0x7fa1008222d0>"
      ]
     },
     "metadata": {},
     "output_type": "display_data"
    }
   ],
   "source": [
    "norm_c = 1\n",
    "norm_s = 1\n",
    "\n",
    "counts_c = df.date[df.usertype == \"Customer\"].groupby([df.date.dt.weekday]).count()\n",
    "counts_s = df.date[df.usertype == \"Subscriber\"].groupby([df.date.dt.weekday]).count()\n",
    "counts_c2 = df2.date[df2.usertype == \"Customer\"].groupby([df2.date.dt.weekday]).count()\n",
    "counts_s2 = df2.date[df2.usertype == \"Subscriber\"].groupby([df2.date.dt.weekday]).count()\n",
    "\n",
    "plt.figure(figsize(16, 8))\n",
    "\n",
    "ax1 = plt.subplot(1,2,1)\n",
    "ax1 = ((counts_c) / norm_c).plot(kind=\"bar\", alpha=0.25, label='Customer', \n",
    "                                 color = 'blue', edgecolor='black')\n",
    "ax1 = ((counts_s) / norm_s).plot(kind=\"bar\", alpha=0.25, label='Subscriber', \n",
    "                                 color = 'red', edgecolor='black', width=0.9)\n",
    "\n",
    "ax1.set_title('(a) January 2016')\n",
    "ax1.xaxis.set_ticklabels(['Mon', 'Tue', 'Wed', 'Thu', 'Fri', 'Sat', 'Sun'])\n",
    "ax1.set_xlabel('Day of week')\n",
    "ax1.set_ylabel('Number of users')\n",
    "plt.legend(['Customers','Subscribers'], fontsize=12)\n",
    "\n",
    "ax2 = plt.subplot(1,2,2)\n",
    "ax2 = ((counts_c2) / norm_c).plot(kind=\"bar\", alpha=0.25, label='Customer', \n",
    "                                  color = 'blue', edgecolor='black',)\n",
    "ax2 = ((counts_s2) / norm_s).plot(kind=\"bar\", alpha=0.25, label='Subscriber', \n",
    "                                  color = 'red', edgecolor='black', width=0.9)\n",
    "\n",
    "ax2.set_title('(b) July 2016')\n",
    "ax2.xaxis.set_ticklabels(['Mon', 'Tue', 'Wed', 'Thu', 'Fri', 'Sat', 'Sun'])\n",
    "ax2.set_xlabel('Day of week')\n",
    "ax2.set_ylabel('Number of users')\n",
    "plt.legend(['Customers','Subscribers'], fontsize=12)\n",
    "\n",
    "plt.show()"
   ]
  },
  {
   "cell_type": "markdown",
   "metadata": {},
   "source": [
    "<center><h3>Fig 1. Distribution of Citi Bike users by type of plan (Customers = 24-hour pass or 3-day pass users; Subscribers = Annual Members) during two winter and summer months, absolute counts</center></h3>"
   ]
  },
  {
   "cell_type": "code",
   "execution_count": 241,
   "metadata": {
    "collapsed": false
   },
   "outputs": [
    {
     "data": {
      "image/png": "[encoded data removed]",
      "text/plain": [
       "<matplotlib.figure.Figure at 0x7fa100cead50>"
      ]
     },
     "metadata": {},
     "output_type": "display_data"
    }
   ],
   "source": [
    "error_c = np.sqrt(counts_c)\n",
    "error_s = np.sqrt(counts_s)\n",
    "error_c2 = np.sqrt(counts_c2)\n",
    "error_s2 = np.sqrt(counts_s2)\n",
    "\n",
    "\n",
    "plt.figure(figsize(16, 8))\n",
    "\n",
    "\n",
    "ax1 = plt.subplot(1,2,1)\n",
    "\n",
    "ax1 = ((counts_c) / norm_c).plot(kind=\"bar\", alpha=0.25, label='Customer', color = 'blue', edgecolor='black', \n",
    "                                 yerr=[((error_c) / norm_c, (error_c) / norm_c)])\n",
    "ax1 = ((counts_s) / norm_s).plot(kind=\"bar\", alpha=0.25, label='Subscriber', color = 'red', edgecolor='black', \n",
    "                                 yerr=[((error_s) / norm_s, (error_s) / norm_s)], width=0.9)\n",
    "\n",
    "ax1.set_title('(a) January 2016')\n",
    "ax1.xaxis.set_ticklabels(['Mon', 'Tue', 'Wed', 'Thu', 'Fri', 'Sat', 'Sun'])\n",
    "ax1.set_xlabel('Day of week')\n",
    "ax1.set_ylabel('Number of users')\n",
    "plt.legend(['Customers','Subscribers'], fontsize=12)\n",
    "\n",
    "ax2 = plt.subplot(1,2,2)\n",
    "ax2 = ((counts_c2) / norm_c).plot(kind=\"bar\", alpha=0.25, label='Customer', color = 'blue', edgecolor='black',\n",
    "                                 yerr=[((error_c2) / norm_c, (error_c2) / norm_c)])\n",
    "ax2 = ((counts_s2) / norm_s).plot(kind=\"bar\", alpha=0.25, label='Subscriber', color = 'red', edgecolor='black',\n",
    "                                 yerr=[((error_s2) / norm_s, (error_s2) / norm_s)], width=0.9)\n",
    "\n",
    "ax2.set_title('(b) July 2016')\n",
    "ax2.xaxis.set_ticklabels(['Mon', 'Tue', 'Wed', 'Thu', 'Fri', 'Sat', 'Sun'])\n",
    "ax2.set_xlabel('Day of week')\n",
    "ax2.set_ylabel('Number of users')\n",
    "plt.legend(['Customers','Subscribers'], fontsize=12)\n",
    "\n",
    "plt.show()"
   ]
  },
  {
   "cell_type": "markdown",
   "metadata": {},
   "source": [
    "<center><h3>Fig 2. Distribution of Citi Bike users by type of plan (Customers = 24-hour pass or 3-day pass users; Subscribers = Annual Members) during two winter and summer months, absolute counts with statistical errors</center></h3>"
   ]
  },
  {
   "cell_type": "code",
   "execution_count": 242,
   "metadata": {
    "collapsed": false
   },
   "outputs": [
    {
     "data": {
      "image/png": "[encoded data removed]",
      "text/plain": [
       "<matplotlib.figure.Figure at 0x7fa102804750>"
      ]
     },
     "metadata": {},
     "output_type": "display_data"
    }
   ],
   "source": [
    "norm_c = counts_c.sum()\n",
    "norm_s = counts_s.sum()\n",
    "norm_c2 = counts_c2.sum()\n",
    "norm_s2 = counts_s2.sum()\n",
    "\n",
    "plt.figure(figsize(16, 8))\n",
    "\n",
    "ax1 = plt.subplot(1,2,1)\n",
    "ax1 = ((counts_c) / norm_c).plot(kind=\"bar\", alpha=0.25, label='Customer', color = 'blue', edgecolor='black',\n",
    "                                 yerr=[((error_c) / norm_c, (error_c) / norm_c)])\n",
    "ax1 = ((counts_s) / norm_s).plot(kind=\"bar\", alpha=0.25, label='Subscriber', color = 'red', edgecolor='black',\n",
    "                                 yerr=[((error_s) / norm_s, (error_s) / norm_s)], width = 0.9)\n",
    "\n",
    "ax1.set_title('(a) January 2016')\n",
    "ax1.xaxis.set_ticklabels(['Mon', 'Tue', 'Wed', 'Thu', 'Fri', 'Sat', 'Sun'])\n",
    "ax1.set_xlabel('Day of week')\n",
    "ax1.set_ylabel('Number of riders')\n",
    "plt.legend(['Customers','Subscribers'], fontsize=12)\n",
    "\n",
    "\n",
    "ax2 = plt.subplot(1,2,2)\n",
    "ax2 = ((counts_c2) / norm_c2).plot(kind=\"bar\", alpha=0.25, label='Customer', color = 'blue', edgecolor='black',\n",
    "                                 yerr=[((error_c2) / norm_c2, (error_c2) / norm_c2)])\n",
    "ax2 = ((counts_s2) / norm_s2).plot(kind=\"bar\", alpha=0.25, label='Subscriber', color = 'red', edgecolor='black',\n",
    "                                 yerr=[((error_s2) / norm_s2, (error_s2) / norm_s2)], width = 0.9)\n",
    "\n",
    "ax2.set_title('(b) July 2016')\n",
    "ax2.xaxis.set_ticklabels(['Mon', 'Tue', 'Wed', 'Thu', 'Fri', 'Sat', 'Sun'])\n",
    "ax2.set_xlabel('Day of week')\n",
    "ax2.set_ylabel('Number of riders')\n",
    "plt.legend(['Customers','Subscribers'], fontsize=12)\n",
    "\n",
    "plt.show()\n"
   ]
  },
  {
   "cell_type": "markdown",
   "metadata": {},
   "source": [
    "<center><h3>Fig 3. Distribution of Citi Bike users by type of plan (Customers = 24-hour pass or 3-day pass users; Subscribers = Annual Members) during two winter and summer months, normalized</center></h3>"
   ]
  },
  {
   "cell_type": "markdown",
   "metadata": {},
   "source": [
    "We observe that proportions are significantly different. \n",
    "Is the difference in the sample large enough to infer that there is a difference in population?"
   ]
  },
  {
   "cell_type": "markdown",
   "metadata": {},
   "source": [
    "### Setting up the Chi-Square test of proportions\n",
    "\n",
    "Chi-Square statistics tests a number against the distribution of the following quantity:\n",
    "\n",
    "$$\\chi^2 = \\Sigma \\frac{(observation - expectation)^2}{expectation}$$\n",
    "\n",
    "\n",
    "If we talk about sample fractions  that is: \n",
    "\n",
    "$$\\chi^2 = \\Sigma \\frac{(f_{observed} - f_{expectated})^2}{f_{expected}}$$\n",
    "\n",
    "This quantity is distributed according to a chi square distribution.\n",
    "Therefore when we get the $\\chi^2$ statistics, one can compare it to the full chisq distribution and see how far in the tail it is.\n"
   ]
  },
  {
   "cell_type": "code",
   "execution_count": 243,
   "metadata": {
    "collapsed": false,
    "scrolled": false
   },
   "outputs": [
    {
     "name": "stdout",
     "output_type": "stream",
     "text": [
      "\n"
     ]
    },
    {
     "data": {
      "image/png": "[encoded data removed]",
      "text/plain": [
       "<matplotlib.figure.Figure at 0x7fa1028047d0>"
      ]
     },
     "metadata": {},
     "output_type": "display_data"
    }
   ],
   "source": [
    "week_c = sum(counts_c[:-2]) * 1.0 / norm_c  #fraction of customers riding on weekdays\n",
    "weekend_c = sum(counts_c[-2:]) * 1.0 / norm_c  #fraction of customers riding on weekends\n",
    "eweek_c = np.sqrt(sum(error_c[:-2]**2)) / norm_c  #error on fraction number of customers riding on weekdays\n",
    "eweekend_c = np.sqrt(sum(error_c[-2:]**2)) / norm_c #error on fraction number of customers riding on weekends\n",
    "\n",
    "week_s = sum(counts_s[:-2]) * 1.0 / norm_s\n",
    "weekend_s = sum(counts_s[-2:]) * 1.0 / norm_s\n",
    "eweek_s = np.sqrt(sum(error_s[:-2]**2)) / norm_s\n",
    "eweekend_s = np.sqrt(sum(error_s[-2:]**2)) / norm_s\n",
    "\n",
    "fig = pl.figure(figsize(18, 7))\n",
    "\n",
    "ax1 = fig.add_subplot(121)\n",
    "ax1.set_xticks([])\n",
    "ax1.errorbar([0.4], [week_s], yerr=[eweek_s], fmt='>', alpha=0.25, label='Subscribers', color = 'red')\n",
    "ax1.errorbar([0.2], [week_c], yerr=[eweek_c], fmt='>', alpha=0.25, label='Customers', color = 'blue')\n",
    "ax1.set_xlim(0, 0.5)\n",
    "ax1.set_title('(a)')\n",
    "ax1.set_ylabel(\"Fraction of normalized rides by type of plan\")\n",
    "ax1.legend(fontsize=12)\n",
    "\n",
    "ax2 = fig.add_subplot(122)\n",
    "ax2.set_xticks([])\n",
    "ax2.errorbar([0.4], [weekend_s], yerr=[eweekend_s], fmt='>', alpha=0.25, label='Subscribers', color = 'red')\n",
    "ax2.errorbar([0.2], [weekend_c], yerr=[eweekend_c], fmt='>', alpha=0.25, label='Customers', color = 'blue')\n",
    "ax2.set_xlim(0, 0.5)\n",
    "ax2.set_title('(b)')\n",
    "ax2.set_ylabel(\"Fraction of normalized rides by type of plan\")\n",
    "ax2.legend(fontsize=12)\n",
    "\n",
    "pl.xlim(-0.5, 1.5)\n",
    "print()"
   ]
  },
  {
   "cell_type": "markdown",
   "metadata": {
    "collapsed": true
   },
   "source": [
    "<center><h3>Fig 4. Fraction of Citi Bike users by type of plan (Customers = 24-hour pass or 3-day pass users; Subscribers = Annual Members) in January 2016 during (a) weekdays and (b) weekends</center></h3>"
   ]
  },
  {
   "cell_type": "code",
   "execution_count": 244,
   "metadata": {
    "collapsed": false
   },
   "outputs": [
    {
     "name": "stdout",
     "output_type": "stream",
     "text": [
      "Sample size:\n",
      "Subscriber: week: 371928, weekend: 113007, total: 484935\n",
      "Customer: week: 12050, weekend: 12493, total: 24543\n"
     ]
    }
   ],
   "source": [
    "week_count_s = sum(counts_s[:-2]) * 1.0\n",
    "weekend_count_s = sum(counts_s[-2:]) * 1.0\n",
    "\n",
    "week_count_c= sum(counts_c[:-2]) * 1.0\n",
    "weekend_count_c = sum(counts_c[-2:]) * 1.0\n",
    "\n",
    "print('Sample size:')\n",
    "print('Subscriber: week: {0:.0f}, weekend: {1:.0f}, total: {2:.0f}'\\\n",
    "      .format(week_count_s, weekend_count_s, week_count_s + weekend_count_s))\n",
    "print('Customer: week: {0:.0f}, weekend: {1:.0f}, total: {2:.0f}'\\\n",
    "      .format(week_count_c, weekend_count_c, week_count_c + weekend_count_c))"
   ]
  },
  {
   "cell_type": "code",
   "execution_count": 245,
   "metadata": {
    "collapsed": false
   },
   "outputs": [
    {
     "name": "stdout",
     "output_type": "stream",
     "text": [
      "Subrscriber: weekday:0.77, weekend:0.23, weekend error:0.0013, weekend error:0.0007\n",
      "Customer: weekday:0.49, weekend:0.51, weekend error:0.0045, weekend error:0.0046\n"
     ]
    }
   ],
   "source": [
    "print(\"Subrscriber: weekday:{0:.2f}, weekend:{1:.2f}, weekend error:{2:.4f}, weekend error:{3:.4f}\"\\\n",
    "      .format(week_s, weekend_s, eweek_s, eweekend_s))\n",
    "print(\"Customer: weekday:{0:.2f}, weekend:{1:.2f}, weekend error:{2:.4f}, weekend error:{3:.4f}\"\\\n",
    "      .format(week_c, weekend_c, eweek_c, eweekend_c))"
   ]
  },
  {
   "cell_type": "code",
   "execution_count": 246,
   "metadata": {
    "collapsed": false
   },
   "outputs": [
    {
     "name": "stdout",
     "output_type": "stream",
     "text": [
      "[[ 371928.  113007.]\n",
      " [  12050.   12493.]]\n"
     ]
    }
   ],
   "source": [
    "values = np.array([[week_s* norm_s, weekend_s*norm_s],[week_c*norm_c, weekend_c*norm_c]])\n",
    "print(values)"
   ]
  },
  {
   "cell_type": "markdown",
   "metadata": {},
   "source": [
    "<h3><center> Table 1. Contingency table (type of plan/day of week) for January 2016 </center></h3>"
   ]
  },
  {
   "cell_type": "markdown",
   "metadata": {},
   "source": [
    "|             |      Weekday      |     Weekend       | Total     |        \n",
    "|-------------|-------------------|-------------------|-----------|\n",
    "| Subscriber  | 0.77 * 1,178,219  | 0.23 * 1,178,219  | 484,935   |\n",
    "| Customer    | 0.49 *   201,891  | 0.51 *   201,891  |   24,543  |\n",
    "| Total       |     383,978       |      125,500      | 509478    |"
   ]
  },
  {
   "cell_type": "code",
   "execution_count": 247,
   "metadata": {
    "collapsed": false
   },
   "outputs": [
    {
     "name": "stdout",
     "output_type": "stream",
     "text": [
      "chi sq statistics for user type ridership on weekdays vs weekends: chisq = 9584.557, DOF = 1\n"
     ]
    }
   ],
   "source": [
    "chisq = evalChisq(values)\n",
    "# degrees of freedom: Nvar - 1 \n",
    "DOF = len(values) - 1\n",
    "print ('chi sq statistics for user type ridership on weekdays vs weekends: '+\n",
    "       'chisq = {:.3f}, DOF = {:d}'.format(chisq, DOF))"
   ]
  },
  {
   "cell_type": "code",
   "execution_count": 248,
   "metadata": {
    "collapsed": false
   },
   "outputs": [
    {
     "name": "stdout",
     "output_type": "stream",
     "text": [
      "The null hypothesis that the ratio of subscribers biking on weekends over subscribers biking on weekdays is the same or higher than the ratio of customers biking on weekends over customers biking on weekdays \n",
      "can be rejected at alpha = 0.05\n",
      "with a chi square statistics of 9584.56\n"
     ]
    }
   ],
   "source": [
    "chi_minalpha95 = 3.84\n",
    "print (\"The null hypothesis that the ratio of subscribers biking on weekends over subscribers biking on weekdays is the same \" + \n",
    "       \"or higher than the ratio of customers biking on weekends over customers biking on weekdays \")\n",
    "if chisq > chi_minalpha95 :\n",
    "    print (\"can be rejected at alpha = 0.05\")\n",
    "else: \n",
    "    print (\"cannot be rejected (p<0.05)\")\n",
    "print (\"with a chi square statistics of {:.2f}\".format(chisq))"
   ]
  },
  {
   "cell_type": "code",
   "execution_count": 249,
   "metadata": {
    "collapsed": false
   },
   "outputs": [
    {
     "name": "stdout",
     "output_type": "stream",
     "text": [
      "\n"
     ]
    },
    {
     "data": {
      "image/png": "[encoded data removed]",
      "text/plain": [
       "<matplotlib.figure.Figure at 0x7fa10097f7d0>"
      ]
     },
     "metadata": {},
     "output_type": "display_data"
    }
   ],
   "source": [
    "week_c2 = sum(counts_c2[:-2]) * 1.0 / norm_c2  #fraction of customers riding on weekdays\n",
    "weekend_c2 = sum(counts_c2[-2:]) * 1.0 / norm_c2  #fraction of customers riding on weekends\n",
    "eweek_c2 = np.sqrt(sum(error_c2[:-2]**2)) / norm_c2  #error on fraction number of customers riding on weekdays\n",
    "eweekend_c2 = np.sqrt(sum(error_c[-2:]**2)) / norm_c2 #error on fraction number of customers riding on weekends\n",
    "\n",
    "week_s2 = sum(counts_s2[:-2]) * 1.0 / norm_s2\n",
    "weekend_s2 = sum(counts_s2[-2:]) * 1.0 / norm_s2\n",
    "eweek_s2 = np.sqrt(sum(error_s2[:-2]**2)) / norm_s2\n",
    "eweekend_s2 = np.sqrt(sum(error_s2[-2:]**2)) / norm_s2\n",
    "\n",
    "fig = pl.figure(figsize(18, 7))\n",
    "\n",
    "ax1 = fig.add_subplot(121)\n",
    "ax1.set_xticks([])\n",
    "ax1.errorbar([0.4], [week_s2], yerr=[eweek_s2], fmt='>', alpha=0.25, label='Subscribers', color = 'red')\n",
    "ax1.errorbar([0.2], [week_c2], yerr=[eweek_c2], fmt='>', alpha=0.25, label='Customers', color = 'blue')\n",
    "ax1.set_xlim(0, 0.5)\n",
    "ax1.set_title('(a)')\n",
    "ax1.set_ylabel(\"Fraction of normalized rides by type of plan\")\n",
    "ax1.legend(fontsize=12)\n",
    "\n",
    "ax2 = fig.add_subplot(122)\n",
    "ax2.set_xticks([])\n",
    "ax2.errorbar([0.4], [weekend_s2], yerr=[eweekend_s2], fmt='>', alpha=0.25, label='Subscribers', color = 'red')\n",
    "ax2.errorbar([0.2], [weekend_c2], yerr=[eweekend_c2], fmt='>', alpha=0.25, label='Customers', color = 'blue')\n",
    "ax1.set_xlim(0, 0.5)\n",
    "ax2.set_title('(b)')\n",
    "ax2.set_ylabel(\"Fraction of normalized rides by type of plan\")\n",
    "ax2.legend(fontsize=12)\n",
    "\n",
    "pl.xlim(-0.5, 1.5)\n",
    "print()"
   ]
  },
  {
   "cell_type": "markdown",
   "metadata": {
    "collapsed": false
   },
   "source": [
    "<center><h3>Fig 5. Fraction of Citi Bike users by type of plan (Customers = 24-hour pass or 3-day pass users; Subscribers = Annual Members) in July 2016 during (a) weekdays and (b) weekends</center></h3>"
   ]
  },
  {
   "cell_type": "code",
   "execution_count": 250,
   "metadata": {
    "collapsed": false
   },
   "outputs": [
    {
     "name": "stdout",
     "output_type": "stream",
     "text": [
      "Sample size:\n",
      "Subscriber: weekday: 911052, weekend: 267167, total: 1178219\n",
      "Customer: weekday: 105396, weekend: 96495, total: 201891\n"
     ]
    }
   ],
   "source": [
    "week_count_s2 = sum(counts_s2[:-2]) * 1.0\n",
    "weekend_count_s2 = sum(counts_s2[-2:]) * 1.0\n",
    "\n",
    "week_count_c2 = sum(counts_c2[:-2]) * 1.0\n",
    "weekend_count_c2 = sum(counts_c2[-2:]) * 1.0\n",
    "\n",
    "print('Sample size:')\n",
    "print('Subscriber: weekday: {0:.0f}, weekend: {1:.0f}, total: {2:.0f}'\\\n",
    "      .format(week_count_s2, weekend_count_s2, week_count_s2 + weekend_count_s2))\n",
    "print('Customer: weekday: {0:.0f}, weekend: {1:.0f}, total: {2:.0f}'\\\n",
    "      .format(week_count_c2, weekend_count_c2, week_count_c2 + weekend_count_c2))"
   ]
  },
  {
   "cell_type": "code",
   "execution_count": 251,
   "metadata": {
    "collapsed": false
   },
   "outputs": [
    {
     "name": "stdout",
     "output_type": "stream",
     "text": [
      "Subrscriber: week:0.77, weekend:0.23, weekend error:0.0008, weekend error:0.0004\n",
      "Customer: week:0.52, weekend:0.48, weekend error:0.0016, weekend error:0.0006\n"
     ]
    }
   ],
   "source": [
    "print(\"Subrscriber: week:{0:.2f}, weekend:{1:.2f}, weekend error:{2:.4f}, weekend error:{3:.4f}\"\\\n",
    "      .format(week_s2, weekend_s2, eweek_s2, eweekend_s2))\n",
    "print(\"Customer: week:{0:.2f}, weekend:{1:.2f}, weekend error:{2:.4f}, weekend error:{3:.4f}\"\\\n",
    "      .format(week_c2, weekend_c2, eweek_c2, eweekend_c2))"
   ]
  },
  {
   "cell_type": "code",
   "execution_count": 252,
   "metadata": {
    "collapsed": false
   },
   "outputs": [
    {
     "name": "stdout",
     "output_type": "stream",
     "text": [
      "[[ 911052.  267167.]\n",
      " [ 105396.   96495.]]\n"
     ]
    }
   ],
   "source": [
    "sample_values2 = np.array([[week_s2 * sum(counts_s2), weekend_s2 * sum(counts_s2)],\\\n",
    "                            [week_c2 * sum(counts_c2), weekend_c2 * sum(counts_c2)]])\n",
    "print(sample_values2)"
   ]
  },
  {
   "cell_type": "markdown",
   "metadata": {},
   "source": [
    "<h3><center> Table 2. Contingency table (type of plan/day of week) for July 2016 </center></h3>"
   ]
  },
  {
   "cell_type": "markdown",
   "metadata": {},
   "source": [
    "|             |      Weekday     |      Weekend      |   Total   |        \n",
    "|-------------|------------------|-------------------|-----------|\n",
    "| Subscriber  | 0.77 * 1,178,219 | 0.23 * 1,178,219  | 1,178,219 |\n",
    "| Customer    | 0.52 * 201,891   | 0.48 *   201,891  |   201,891 |\n",
    "| Total       |     1,016,448    |      363,662      | 1,380,110 |"
   ]
  },
  {
   "cell_type": "code",
   "execution_count": 253,
   "metadata": {
    "collapsed": true
   },
   "outputs": [],
   "source": [
    "chisq2 = evalChisq(sample_values2)"
   ]
  },
  {
   "cell_type": "code",
   "execution_count": 254,
   "metadata": {
    "collapsed": false
   },
   "outputs": [
    {
     "name": "stdout",
     "output_type": "stream",
     "text": [
      "chi sq statistics for user type ridership on weekdays vs weekends: chisq = 56042.334, DOF = 1\n"
     ]
    }
   ],
   "source": [
    "# degrees of freedom: Nvar - 1 \n",
    "DOF2 = len(sample_values2) - 1\n",
    "print ('chi sq statistics for user type ridership on weekdays vs weekends: '+\n",
    "       'chisq = {:.3f}, DOF = {:d}'.format(chisq2, DOF2))"
   ]
  },
  {
   "cell_type": "code",
   "execution_count": 255,
   "metadata": {
    "collapsed": false
   },
   "outputs": [
    {
     "name": "stdout",
     "output_type": "stream",
     "text": [
      "The null hypothesis that the ratio of subscribers biking on weekends over subscribers biking on weekdays is the same or higher than the ratio of customers biking on weekends over customers biking on weekdays \n",
      "can be rejected at alpha = 0.05\n",
      "with a chi square statistics of 56042.33\n"
     ]
    }
   ],
   "source": [
    "chi_minalpha95 = 3.84\n",
    "print (\"The null hypothesis that the ratio of subscribers biking on weekends over subscribers biking on weekdays is the same \" + \n",
    "       \"or higher than the ratio of customers biking on weekends over customers biking on weekdays \")\n",
    "if chisq > chi_minalpha95 :\n",
    "    print (\"can be rejected at alpha = 0.05\")\n",
    "else: \n",
    "    print (\"cannot be rejected (p<0.05)\")\n",
    "print (\"with a chi square statistics of {:.2f}\".format(chisq2))"
   ]
  },
  {
   "cell_type": "code",
   "execution_count": null,
   "metadata": {
    "collapsed": true
   },
   "outputs": [],
   "source": []
  }
 ],
 "metadata": {
  "kernelspec": {
   "display_name": "PUI2016_Python2",
   "language": "python",
   "name": "pui2016_python2"
  },
  "language_info": {
   "codemirror_mode": {
    "name": "ipython",
    "version": 2
   },
   "file_extension": ".py",
   "mimetype": "text/x-python",
   "name": "python",
   "nbconvert_exporter": "python",
   "pygments_lexer": "ipython2",
   "version": "2.7.12"
  }
 },
 "nbformat": 4,
 "nbformat_minor": 2
}
